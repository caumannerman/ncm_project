{
  "nbformat": 4,
  "nbformat_minor": 0,
  "metadata": {
    "colab": {
      "provenance": [],
      "include_colab_link": true
    },
    "kernelspec": {
      "name": "python3",
      "display_name": "Python 3"
    },
    "language_info": {
      "name": "python"
    },
    "accelerator": "GPU",
    "gpuClass": "standard"
  },
  "cells": [
    {
      "cell_type": "markdown",
      "metadata": {
        "id": "view-in-github",
        "colab_type": "text"
      },
      "source": [
        "<a href=\"https://colab.research.google.com/github/caumannerman/ncm_project/blob/master/%ED%8C%8C%EC%9D%B4%EC%8D%AC_%EA%B3%BC%EC%A0%9C_%EB%A7%88%EB%B2%95%EA%B3%B5%EC%8B%9D_%EC%98%A4%ED%9B%846%EC%8B%9C33%EB%B6%84(Y).ipynb\" target=\"_parent\"><img src=\"https://colab.research.google.com/assets/colab-badge.svg\" alt=\"Open In Colab\"/></a>"
      ]
    },
    {
      "cell_type": "code",
      "source": [
        "pip install pykrx"
      ],
      "metadata": {
        "id": "JxWEq_lt4Kzw",
        "colab": {
          "base_uri": "https://localhost:8080/"
        },
        "outputId": "1e2508e1-544a-4b3a-ae3a-e0f7b96c1765"
      },
      "execution_count": 1,
      "outputs": [
        {
          "output_type": "stream",
          "name": "stdout",
          "text": [
            "Looking in indexes: https://pypi.org/simple, https://us-python.pkg.dev/colab-wheels/public/simple/\n",
            "Requirement already satisfied: pykrx in /usr/local/lib/python3.8/dist-packages (1.0.39)\n",
            "Requirement already satisfied: numpy in /usr/local/lib/python3.8/dist-packages (from pykrx) (1.21.6)\n",
            "Requirement already satisfied: xlrd in /usr/local/lib/python3.8/dist-packages (from pykrx) (1.2.0)\n",
            "Requirement already satisfied: datetime in /usr/local/lib/python3.8/dist-packages (from pykrx) (4.9)\n",
            "Requirement already satisfied: requests in /usr/local/lib/python3.8/dist-packages (from pykrx) (2.25.1)\n",
            "Requirement already satisfied: deprecated in /usr/local/lib/python3.8/dist-packages (from pykrx) (1.2.13)\n",
            "Requirement already satisfied: pandas in /usr/local/lib/python3.8/dist-packages (from pykrx) (1.3.5)\n",
            "Requirement already satisfied: zope.interface in /usr/local/lib/python3.8/dist-packages (from datetime->pykrx) (5.5.2)\n",
            "Requirement already satisfied: pytz in /usr/local/lib/python3.8/dist-packages (from datetime->pykrx) (2022.7)\n",
            "Requirement already satisfied: wrapt<2,>=1.10 in /usr/local/lib/python3.8/dist-packages (from deprecated->pykrx) (1.14.1)\n",
            "Requirement already satisfied: python-dateutil>=2.7.3 in /usr/local/lib/python3.8/dist-packages (from pandas->pykrx) (2.8.2)\n",
            "Requirement already satisfied: certifi>=2017.4.17 in /usr/local/lib/python3.8/dist-packages (from requests->pykrx) (2022.12.7)\n",
            "Requirement already satisfied: chardet<5,>=3.0.2 in /usr/local/lib/python3.8/dist-packages (from requests->pykrx) (4.0.0)\n",
            "Requirement already satisfied: urllib3<1.27,>=1.21.1 in /usr/local/lib/python3.8/dist-packages (from requests->pykrx) (1.24.3)\n",
            "Requirement already satisfied: idna<3,>=2.5 in /usr/local/lib/python3.8/dist-packages (from requests->pykrx) (2.10)\n",
            "Requirement already satisfied: six>=1.5 in /usr/local/lib/python3.8/dist-packages (from python-dateutil>=2.7.3->pandas->pykrx) (1.15.0)\n",
            "Requirement already satisfied: setuptools in /usr/local/lib/python3.8/dist-packages (from zope.interface->datetime->pykrx) (57.4.0)\n"
          ]
        }
      ]
    },
    {
      "cell_type": "code",
      "source": [
        "from pykrx import stock\n",
        "import pandas as pd\n",
        "import requests\n",
        "import time\n",
        "from datetime import datetime"
      ],
      "metadata": {
        "id": "F4ue870l3_2g"
      },
      "execution_count": 3,
      "outputs": []
    },
    {
      "cell_type": "code",
      "source": [
        "# EV/EBTIDA 가져오기\n",
        "# date='211230'\n",
        "# year='2021/12'\n",
        "def get_EVEBITDA(code, year):\n",
        "  # print (\"in get_EVEBITDA\")\n",
        "  url = 'https://comp.fnguide.com/SVO2/ASP/SVD_Invest.asp?pGB=1&gicode=A' + code + '&cID=&MenuYn=Y&ReportGB=&NewMenuID=105&stkGb=701'\n",
        "\n",
        "  fr_page = requests.get(url)\n",
        "  fr_tables = pd.read_html(fr_page.text)\n",
        "\n",
        "  temp_df = fr_tables[3]\n",
        "  temp_df = temp_df.set_index(temp_df.columns[0])\n",
        "  temp_df = temp_df.loc[['EV/EBITDA계산에 참여한 계정 펼치기']]\n",
        "  temp_df.index = ['EV/EBITDA']\n",
        "  temp_df = pd.DataFrame({code:temp_df[year]})\n",
        "  temp_df = temp_df.transpose()\n",
        "  # print (temp_df)\n",
        "  return temp_df"
      ],
      "metadata": {
        "id": "VYfOA3p55bks"
      },
      "execution_count": 4,
      "outputs": []
    },
    {
      "cell_type": "code",
      "source": [
        "# ROIC 가져오기\n",
        "# date='211230'\n",
        "# year='2021/12'\n",
        "def get_ROIC(code, year):\n",
        "  # print (\"in get_ROIC\")\n",
        "  url = 'https://comp.fnguide.com/SVO2/ASP/SVD_FinanceRatio.asp?pGB=1&gicode=A'+ code +'&cID=&MenuYn=Y&ReportGB=&NewMenuID=104&stkGb=701'\n",
        "\n",
        "  fr_page = requests.get(url)\n",
        "  fr_tables = pd.read_html(fr_page.text)\n",
        "\n",
        "  temp_df = fr_tables[0]\n",
        "  temp_df = temp_df.set_index(temp_df.columns[0])\n",
        "  temp_df = temp_df.loc[['ROIC계산에 참여한 계정 펼치기']]\n",
        "  temp_df.index = ['ROIC']\n",
        "  temp_df = pd.DataFrame({code:temp_df[year]})\n",
        "  temp_df = temp_df.transpose()\n",
        "  print (temp_df)\n",
        "  return temp_df\n",
        "\n",
        "# print (get_ROIC('095570',year))"
      ],
      "metadata": {
        "id": "pv3o5Ad90jmb"
      },
      "execution_count": 5,
      "outputs": []
    },
    {
      "cell_type": "code",
      "source": [
        "# 종목코드, 종목명 가져오기\n",
        "# 2022년 1년간의 종목 수익률을 파악해야 하므로 종목 추출 시점은 2021년 연말이 되어야 함\n",
        "# 따라서 종목, EV/EBTIDA, ROIC 모두 2021년 4분기 기준값으로 가져오기\n",
        "date='211230'\n",
        "year='2021/12'\n",
        "codes = stock.get_market_ticker_list(date, market='ALL')\n",
        "corp = []\n",
        "\n",
        "for code in codes:\n",
        "  name = stock.get_market_ticker_name(code)\n",
        "  corp.append([code, name])\n",
        "\n",
        "df = pd.DataFrame(data=corp, columns=['종목코드', '종목명'])\n",
        "df_code = df['종목코드']\n",
        "\n",
        "# EV/EBITDA dataframe 생성 및 적재\n",
        "# 첫번재 종목이 3월 결산 종목이라 2021년 12월 데이터 값이 홈페이지에 나와있지 않음 -> 삼성전자를 임의로 첫번째 값으로 입력\n",
        "evebitda_df=get_EVEBITDA('005930',year)\n",
        "\n",
        "for num, code in enumerate(df_code):  \n",
        "  if num==5:\n",
        "      break\n",
        "  try:\n",
        "      if num==1:\n",
        "        return_df=get_EVEBITDA(code,year)\n",
        "        evebitda_df=pd.concat([evebitda_df, return_df])\n",
        "        print (evebitda_df)\n",
        "        evebitda_df=evebitda_df.drop(index='005930')  \n",
        "      else:\n",
        "        return_df=get_EVEBITDA(code,year)\n",
        "        evebitda_df=pd.concat([evebitda_df, return_df])\n",
        "  except:\n",
        "      pass\n",
        "print (evebitda_df)\n",
        "\n",
        "# ROIC dataframe 생성 및 적재\n",
        "roic_df=get_ROIC('005930',year)\n",
        "\n",
        "for num, code in enumerate(df_code):  \n",
        "  if num==5:\n",
        "      break\n",
        "  try:\n",
        "      if num==1:\n",
        "        return_df=get_ROIC(code,year)\n",
        "        roic_df=pd.concat([roic_df, return_df])\n",
        "        print (roic_df)\n",
        "        roic_df=roic_df.drop(index='005930')  \n",
        "      else:\n",
        "        return_df=get_ROIC(code,year)\n",
        "        roic_df=pd.concat([roic_df, return_df])\n",
        "  except:\n",
        "      pass\n",
        "print (roic_df)\n"
      ],
      "metadata": {
        "id": "XCE7MhkQ96Cz",
        "colab": {
          "base_uri": "https://localhost:8080/"
        },
        "outputId": "0e8037ad-6311-4934-fa61-07a78ef63d6f"
      },
      "execution_count": 6,
      "outputs": [
        {
          "output_type": "stream",
          "name": "stdout",
          "text": [
            "       EV/EBITDA\n",
            "005930      6.23\n",
            "095570      4.85\n",
            "       EV/EBITDA\n",
            "095570      4.85\n",
            "006840     34.61\n",
            "054620    274.52\n",
            "265520      5.27\n",
            "        ROIC\n",
            "005930  23.9\n",
            "       ROIC\n",
            "095570  2.0\n",
            "        ROIC\n",
            "005930  23.9\n",
            "095570   2.0\n",
            "        ROIC\n",
            "006840  -5.2\n",
            "        ROIC\n",
            "054620  -8.1\n",
            "        ROIC\n",
            "265520  37.9\n",
            "        ROIC\n",
            "095570   2.0\n",
            "006840  -5.2\n",
            "054620  -8.1\n",
            "265520  37.9\n"
          ]
        }
      ]
    },
    {
      "cell_type": "code",
      "source": [
        "magic = pd.concat([evebitda_df,roic_df],axis=1)\n",
        "print(magic)\n"
      ],
      "metadata": {
        "colab": {
          "base_uri": "https://localhost:8080/"
        },
        "id": "8HVvzREBrJAp",
        "outputId": "9df48d86-91b5-4537-8a68-fe746a2f6e29"
      },
      "execution_count": 84,
      "outputs": [
        {
          "output_type": "stream",
          "name": "stdout",
          "text": [
            "       EV/EBITDA  ROIC\n",
            "095570      4.85   2.0\n",
            "006840     34.61  -5.2\n",
            "054620    274.52  -8.1\n",
            "265520      5.27  37.9\n"
          ]
        }
      ]
    },
    {
      "cell_type": "code",
      "source": [
        "# 여기부터 추가된 코드\n",
        "# ROIC와 EV/EBITDA 열이 모두 String타입이었는데 이를 float타입으로 바꾼다 ( 대소관계를 따져 정렬해야하므로)\n",
        "magic22 = magic.astype({'ROIC':'float', 'EV/EBITDA':'float'})\n",
        "# EV/EBITDA 기준으로 오름차순 정렬\n",
        "magic22 = magic22.sort_values('EV/EBITDA', ascending=True)\n",
        "print(magic22)\n",
        "# EV/EBITDA 기준으로 오름차순 정렬되어있으므로, 해당순서대로 EV/EBITDA rank값을 할당해줌 \n",
        "magic22['EV/EBITDA_rank'] = [i for i in range(1, len(magic22) + 1)]\n",
        "print(magic22)\n",
        "\n",
        "roic_arr = []\n",
        "\n",
        "# 인덱스( 종목 번호)와 roic값을 tuple형태로 넣어줌 \n",
        "for idx, row in magic22.iterrows():\n",
        "    # print(\"** index name:\", idx)\n",
        "    # print(idx, row[\"ROIC\"])\n",
        "    roic_arr.append((row[\"ROIC\"], idx))\n",
        "\n",
        "# roic 값을 기준으로 하여 내림차순 정렬 \n",
        "roic_arr = sorted(roic_arr, reverse = True)\n",
        "# 인덱스 (종목번호)가 원래의 순서 그대로 담긴 list를 생성 \n",
        "iiidx_arr = list(magic22.index)\n",
        "print(roic_arr)\n",
        "\n",
        "# 여기부터 ROIC_rank 에 차례대로 값을 담을 것\n",
        "ROIC_rank_arr = [0] * len(iiidx_arr)\n",
        "for idx, (now_roic, secu_num) in enumerate(roic_arr):\n",
        "  # print(iiidx_arr.index(secu_num))\n",
        "  # print(idx)\n",
        "  ROIC_rank_arr[iiidx_arr.index(secu_num)] = idx + 1\n",
        "\n",
        "# 결과적으로 ROIC_rank_arr에 roic 랭크가 담김\n",
        "print(ROIC_rank_arr)\n",
        "\n",
        "magic22['ROIC_rank'] = ROIC_rank_arr\n",
        "\n",
        "print(magic22)\n",
        "\n",
        "# EBITDA_rank와 ROIC_rank를 합쳐서 result_rank를 새로운 열에 저장 \n",
        "magic22['result_rank'] = magic22['EV/EBITDA_rank'] + magic22['ROIC_rank']\n",
        "print(magic22)\n",
        "# 끗!!!!!!!!!!\n",
        "# 끗!!!!!!!!!!\n",
        "# 끗!!!!!!!!!!\n",
        "# 끗!!!!!!!!!!"
      ],
      "metadata": {
        "id": "22IIOpZxhNj8",
        "outputId": "0497b29f-3da8-4453-d19d-d01c69dda06e",
        "colab": {
          "base_uri": "https://localhost:8080/"
        }
      },
      "execution_count": 101,
      "outputs": [
        {
          "output_type": "stream",
          "name": "stdout",
          "text": [
            "        EV/EBITDA  ROIC\n",
            "095570       4.85   2.0\n",
            "265520       5.27  37.9\n",
            "006840      34.61  -5.2\n",
            "054620     274.52  -8.1\n",
            "        EV/EBITDA  ROIC  EV/EBITDA_rank\n",
            "095570       4.85   2.0               1\n",
            "265520       5.27  37.9               2\n",
            "006840      34.61  -5.2               3\n",
            "054620     274.52  -8.1               4\n",
            "[(37.9, '265520'), (2.0, '095570'), (-5.2, '006840'), (-8.1, '054620')]\n",
            "[2, 1, 3, 4]\n",
            "        EV/EBITDA  ROIC  EV/EBITDA_rank  ROIC_rank\n",
            "095570       4.85   2.0               1          2\n",
            "265520       5.27  37.9               2          1\n",
            "006840      34.61  -5.2               3          3\n",
            "054620     274.52  -8.1               4          4\n",
            "        EV/EBITDA  ROIC  EV/EBITDA_rank  ROIC_rank  result_rank\n",
            "095570       4.85   2.0               1          2            3\n",
            "265520       5.27  37.9               2          1            3\n",
            "006840      34.61  -5.2               3          3            6\n",
            "054620     274.52  -8.1               4          4            8\n"
          ]
        }
      ]
    },
    {
      "cell_type": "code",
      "source": [
        "# def sortDataFrame(df):\n",
        "#   code_EE_list = []\n",
        "#   code_RO_list = []\n",
        "#    # 일단 df에 EV/EBITDA_rank, ROIC_rank, Final_rank 열을 추가해야한다.\n",
        "#   df['EV/EBITDA_rank'] = [i for i in range(1, len(df) + 1)]\n",
        "#   df['ROIC_rank'] = code_RO_list\n",
        "#   df['Final_rank'] = 0\n",
        "\n",
        "  \n",
        "#   # 매개변수로 전달받은 DataFrame의 각 row를 돌며  \n",
        "#   # ee_list에는 (종목코드(문자열), EV/EBITDA (float)) 와 같이 튜플 형태로 쌓아줌\n",
        "#   # for idx, row in df.iterrows():\n",
        "#   #   df['EV/EBITDA_rank']\n",
        "#   #   code_EE_list.append((row[\"EV/EBITDA\"], idx))\n",
        "#   #   code_RO_list.append((row[\"ROIC\"], idx))\n",
        "\n",
        " \n",
        "#   # df.loc['095570']['EV/EBITDA_rank'] = (1.1, \"lll\")\n",
        "#   return df\n",
        "#   # return code_EE_list, code_RO_list\n",
        "\n"
      ],
      "metadata": {
        "id": "hMTVqha9aYMZ"
      },
      "execution_count": 76,
      "outputs": []
    },
    {
      "cell_type": "code",
      "source": [
        "magic['evebitda_rank'] = magic['evebitda'].rank()\n",
        "magic['roic_rank'] = magic['roic'].rank(ascending=False)\n",
        "magic['total'] = magic['evebitda'] + magic['roic_rank']\n",
        "magic['total_rank'] = magic['total'].rank()\n",
        "magic = magic.sort_values(by=['total_rank'])\n",
        " \n",
        "today = datetime.today().strftime('%y-%m-%d')\n",
        "magic.to_excel('Magic(' + 'today' + ').xlsx')\n",
        " \n",
        "return magic\n",
        "\n",
        "print(make_magic_df(year, date))"
      ],
      "metadata": {
        "colab": {
          "base_uri": "https://localhost:8080/",
          "height": 515
        },
        "id": "n4m5Q2yx_7bR",
        "outputId": "4ec660bb-4041-46b3-e3af-3a0873737964"
      },
      "execution_count": 8,
      "outputs": [
        {
          "output_type": "error",
          "ename": "KeyError",
          "evalue": "ignored",
          "traceback": [
            "\u001b[0;31m---------------------------------------------------------------------------\u001b[0m",
            "\u001b[0;31mKeyError\u001b[0m                                  Traceback (most recent call last)",
            "\u001b[0;32m/usr/local/lib/python3.8/dist-packages/pandas/core/indexes/base.py\u001b[0m in \u001b[0;36mget_loc\u001b[0;34m(self, key, method, tolerance)\u001b[0m\n\u001b[1;32m   3360\u001b[0m             \u001b[0;32mtry\u001b[0m\u001b[0;34m:\u001b[0m\u001b[0;34m\u001b[0m\u001b[0;34m\u001b[0m\u001b[0m\n\u001b[0;32m-> 3361\u001b[0;31m                 \u001b[0;32mreturn\u001b[0m \u001b[0mself\u001b[0m\u001b[0;34m.\u001b[0m\u001b[0m_engine\u001b[0m\u001b[0;34m.\u001b[0m\u001b[0mget_loc\u001b[0m\u001b[0;34m(\u001b[0m\u001b[0mcasted_key\u001b[0m\u001b[0;34m)\u001b[0m\u001b[0;34m\u001b[0m\u001b[0;34m\u001b[0m\u001b[0m\n\u001b[0m\u001b[1;32m   3362\u001b[0m             \u001b[0;32mexcept\u001b[0m \u001b[0mKeyError\u001b[0m \u001b[0;32mas\u001b[0m \u001b[0merr\u001b[0m\u001b[0;34m:\u001b[0m\u001b[0;34m\u001b[0m\u001b[0;34m\u001b[0m\u001b[0m\n",
            "\u001b[0;32m/usr/local/lib/python3.8/dist-packages/pandas/_libs/index.pyx\u001b[0m in \u001b[0;36mpandas._libs.index.IndexEngine.get_loc\u001b[0;34m()\u001b[0m\n",
            "\u001b[0;32m/usr/local/lib/python3.8/dist-packages/pandas/_libs/index.pyx\u001b[0m in \u001b[0;36mpandas._libs.index.IndexEngine.get_loc\u001b[0;34m()\u001b[0m\n",
            "\u001b[0;32mpandas/_libs/hashtable_class_helper.pxi\u001b[0m in \u001b[0;36mpandas._libs.hashtable.PyObjectHashTable.get_item\u001b[0;34m()\u001b[0m\n",
            "\u001b[0;32mpandas/_libs/hashtable_class_helper.pxi\u001b[0m in \u001b[0;36mpandas._libs.hashtable.PyObjectHashTable.get_item\u001b[0;34m()\u001b[0m\n",
            "\u001b[0;31mKeyError\u001b[0m: 'evebitda'",
            "\nThe above exception was the direct cause of the following exception:\n",
            "\u001b[0;31mKeyError\u001b[0m                                  Traceback (most recent call last)",
            "\u001b[0;32m<ipython-input-8-41fb2056737c>\u001b[0m in \u001b[0;36m<module>\u001b[0;34m\u001b[0m\n\u001b[0;32m----> 1\u001b[0;31m \u001b[0mmagic\u001b[0m\u001b[0;34m[\u001b[0m\u001b[0;34m'evebitda_rank'\u001b[0m\u001b[0;34m]\u001b[0m \u001b[0;34m=\u001b[0m \u001b[0mmagic\u001b[0m\u001b[0;34m[\u001b[0m\u001b[0;34m'evebitda'\u001b[0m\u001b[0;34m]\u001b[0m\u001b[0;34m.\u001b[0m\u001b[0mrank\u001b[0m\u001b[0;34m(\u001b[0m\u001b[0;34m)\u001b[0m\u001b[0;34m\u001b[0m\u001b[0;34m\u001b[0m\u001b[0m\n\u001b[0m\u001b[1;32m      2\u001b[0m \u001b[0mmagic\u001b[0m\u001b[0;34m[\u001b[0m\u001b[0;34m'roic_rank'\u001b[0m\u001b[0;34m]\u001b[0m \u001b[0;34m=\u001b[0m \u001b[0mmagic\u001b[0m\u001b[0;34m[\u001b[0m\u001b[0;34m'roic'\u001b[0m\u001b[0;34m]\u001b[0m\u001b[0;34m.\u001b[0m\u001b[0mrank\u001b[0m\u001b[0;34m(\u001b[0m\u001b[0mascending\u001b[0m\u001b[0;34m=\u001b[0m\u001b[0;32mFalse\u001b[0m\u001b[0;34m)\u001b[0m\u001b[0;34m\u001b[0m\u001b[0;34m\u001b[0m\u001b[0m\n\u001b[1;32m      3\u001b[0m \u001b[0mmagic\u001b[0m\u001b[0;34m[\u001b[0m\u001b[0;34m'total'\u001b[0m\u001b[0;34m]\u001b[0m \u001b[0;34m=\u001b[0m \u001b[0mmagic\u001b[0m\u001b[0;34m[\u001b[0m\u001b[0;34m'evebitda'\u001b[0m\u001b[0;34m]\u001b[0m \u001b[0;34m+\u001b[0m \u001b[0mmagic\u001b[0m\u001b[0;34m[\u001b[0m\u001b[0;34m'roic_rank'\u001b[0m\u001b[0;34m]\u001b[0m\u001b[0;34m\u001b[0m\u001b[0;34m\u001b[0m\u001b[0m\n\u001b[1;32m      4\u001b[0m \u001b[0mmagic\u001b[0m\u001b[0;34m[\u001b[0m\u001b[0;34m'total_rank'\u001b[0m\u001b[0;34m]\u001b[0m \u001b[0;34m=\u001b[0m \u001b[0mmagic\u001b[0m\u001b[0;34m[\u001b[0m\u001b[0;34m'total'\u001b[0m\u001b[0;34m]\u001b[0m\u001b[0;34m.\u001b[0m\u001b[0mrank\u001b[0m\u001b[0;34m(\u001b[0m\u001b[0;34m)\u001b[0m\u001b[0;34m\u001b[0m\u001b[0;34m\u001b[0m\u001b[0m\n\u001b[1;32m      5\u001b[0m \u001b[0mmagic\u001b[0m \u001b[0;34m=\u001b[0m \u001b[0mmagic\u001b[0m\u001b[0;34m.\u001b[0m\u001b[0msort_values\u001b[0m\u001b[0;34m(\u001b[0m\u001b[0mby\u001b[0m\u001b[0;34m=\u001b[0m\u001b[0;34m[\u001b[0m\u001b[0;34m'total_rank'\u001b[0m\u001b[0;34m]\u001b[0m\u001b[0;34m)\u001b[0m\u001b[0;34m\u001b[0m\u001b[0;34m\u001b[0m\u001b[0m\n",
            "\u001b[0;32m/usr/local/lib/python3.8/dist-packages/pandas/core/frame.py\u001b[0m in \u001b[0;36m__getitem__\u001b[0;34m(self, key)\u001b[0m\n\u001b[1;32m   3456\u001b[0m             \u001b[0;32mif\u001b[0m \u001b[0mself\u001b[0m\u001b[0;34m.\u001b[0m\u001b[0mcolumns\u001b[0m\u001b[0;34m.\u001b[0m\u001b[0mnlevels\u001b[0m \u001b[0;34m>\u001b[0m \u001b[0;36m1\u001b[0m\u001b[0;34m:\u001b[0m\u001b[0;34m\u001b[0m\u001b[0;34m\u001b[0m\u001b[0m\n\u001b[1;32m   3457\u001b[0m                 \u001b[0;32mreturn\u001b[0m \u001b[0mself\u001b[0m\u001b[0;34m.\u001b[0m\u001b[0m_getitem_multilevel\u001b[0m\u001b[0;34m(\u001b[0m\u001b[0mkey\u001b[0m\u001b[0;34m)\u001b[0m\u001b[0;34m\u001b[0m\u001b[0;34m\u001b[0m\u001b[0m\n\u001b[0;32m-> 3458\u001b[0;31m             \u001b[0mindexer\u001b[0m \u001b[0;34m=\u001b[0m \u001b[0mself\u001b[0m\u001b[0;34m.\u001b[0m\u001b[0mcolumns\u001b[0m\u001b[0;34m.\u001b[0m\u001b[0mget_loc\u001b[0m\u001b[0;34m(\u001b[0m\u001b[0mkey\u001b[0m\u001b[0;34m)\u001b[0m\u001b[0;34m\u001b[0m\u001b[0;34m\u001b[0m\u001b[0m\n\u001b[0m\u001b[1;32m   3459\u001b[0m             \u001b[0;32mif\u001b[0m \u001b[0mis_integer\u001b[0m\u001b[0;34m(\u001b[0m\u001b[0mindexer\u001b[0m\u001b[0;34m)\u001b[0m\u001b[0;34m:\u001b[0m\u001b[0;34m\u001b[0m\u001b[0;34m\u001b[0m\u001b[0m\n\u001b[1;32m   3460\u001b[0m                 \u001b[0mindexer\u001b[0m \u001b[0;34m=\u001b[0m \u001b[0;34m[\u001b[0m\u001b[0mindexer\u001b[0m\u001b[0;34m]\u001b[0m\u001b[0;34m\u001b[0m\u001b[0;34m\u001b[0m\u001b[0m\n",
            "\u001b[0;32m/usr/local/lib/python3.8/dist-packages/pandas/core/indexes/base.py\u001b[0m in \u001b[0;36mget_loc\u001b[0;34m(self, key, method, tolerance)\u001b[0m\n\u001b[1;32m   3361\u001b[0m                 \u001b[0;32mreturn\u001b[0m \u001b[0mself\u001b[0m\u001b[0;34m.\u001b[0m\u001b[0m_engine\u001b[0m\u001b[0;34m.\u001b[0m\u001b[0mget_loc\u001b[0m\u001b[0;34m(\u001b[0m\u001b[0mcasted_key\u001b[0m\u001b[0;34m)\u001b[0m\u001b[0;34m\u001b[0m\u001b[0;34m\u001b[0m\u001b[0m\n\u001b[1;32m   3362\u001b[0m             \u001b[0;32mexcept\u001b[0m \u001b[0mKeyError\u001b[0m \u001b[0;32mas\u001b[0m \u001b[0merr\u001b[0m\u001b[0;34m:\u001b[0m\u001b[0;34m\u001b[0m\u001b[0;34m\u001b[0m\u001b[0m\n\u001b[0;32m-> 3363\u001b[0;31m                 \u001b[0;32mraise\u001b[0m \u001b[0mKeyError\u001b[0m\u001b[0;34m(\u001b[0m\u001b[0mkey\u001b[0m\u001b[0;34m)\u001b[0m \u001b[0;32mfrom\u001b[0m \u001b[0merr\u001b[0m\u001b[0;34m\u001b[0m\u001b[0;34m\u001b[0m\u001b[0m\n\u001b[0m\u001b[1;32m   3364\u001b[0m \u001b[0;34m\u001b[0m\u001b[0m\n\u001b[1;32m   3365\u001b[0m         \u001b[0;32mif\u001b[0m \u001b[0mis_scalar\u001b[0m\u001b[0;34m(\u001b[0m\u001b[0mkey\u001b[0m\u001b[0;34m)\u001b[0m \u001b[0;32mand\u001b[0m \u001b[0misna\u001b[0m\u001b[0;34m(\u001b[0m\u001b[0mkey\u001b[0m\u001b[0;34m)\u001b[0m \u001b[0;32mand\u001b[0m \u001b[0;32mnot\u001b[0m \u001b[0mself\u001b[0m\u001b[0;34m.\u001b[0m\u001b[0mhasnans\u001b[0m\u001b[0;34m:\u001b[0m\u001b[0;34m\u001b[0m\u001b[0;34m\u001b[0m\u001b[0m\n",
            "\u001b[0;31mKeyError\u001b[0m: 'evebitda'"
          ]
        }
      ]
    }
  ]
}
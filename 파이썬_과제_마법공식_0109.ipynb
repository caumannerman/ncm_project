{
  "nbformat": 4,
  "nbformat_minor": 0,
  "metadata": {
    "colab": {
      "provenance": [],
      "authorship_tag": "ABX9TyOTQJraTxajH3bBdXtIILyT",
      "include_colab_link": true
    },
    "kernelspec": {
      "name": "python3",
      "display_name": "Python 3"
    },
    "language_info": {
      "name": "python"
    }
  },
  "cells": [
    {
      "cell_type": "markdown",
      "metadata": {
        "id": "view-in-github",
        "colab_type": "text"
      },
      "source": [
        "<a href=\"https://colab.research.google.com/github/caumannerman/ncm_project/blob/master/%ED%8C%8C%EC%9D%B4%EC%8D%AC_%EA%B3%BC%EC%A0%9C_%EB%A7%88%EB%B2%95%EA%B3%B5%EC%8B%9D_0109.ipynb\" target=\"_parent\"><img src=\"https://colab.research.google.com/assets/colab-badge.svg\" alt=\"Open In Colab\"/></a>"
      ]
    },
    {
      "cell_type": "code",
      "source": [
        "pip install pykrx"
      ],
      "metadata": {
        "id": "JxWEq_lt4Kzw",
        "colab": {
          "base_uri": "https://localhost:8080/"
        },
        "outputId": "8f2cd28c-9693-4a3b-eb69-39baad205845"
      },
      "execution_count": 1,
      "outputs": [
        {
          "output_type": "stream",
          "name": "stdout",
          "text": [
            "Looking in indexes: https://pypi.org/simple, https://us-python.pkg.dev/colab-wheels/public/simple/\n",
            "Collecting pykrx\n",
            "  Downloading pykrx-1.0.39-py3-none-any.whl (125 kB)\n",
            "\u001b[2K     \u001b[90m━━━━━━━━━━━━━━━━━━━━━━━━━━━━━━━━━━━━━━━\u001b[0m \u001b[32m125.5/125.5 KB\u001b[0m \u001b[31m4.5 MB/s\u001b[0m eta \u001b[36m0:00:00\u001b[0m\n",
            "\u001b[?25hRequirement already satisfied: numpy in /usr/local/lib/python3.8/dist-packages (from pykrx) (1.21.6)\n",
            "Collecting datetime\n",
            "  Downloading DateTime-4.9-py2.py3-none-any.whl (52 kB)\n",
            "\u001b[2K     \u001b[90m━━━━━━━━━━━━━━━━━━━━━━━━━━━━━━━━━━━━━━━━\u001b[0m \u001b[32m52.4/52.4 KB\u001b[0m \u001b[31m6.8 MB/s\u001b[0m eta \u001b[36m0:00:00\u001b[0m\n",
            "\u001b[?25hCollecting deprecated\n",
            "  Downloading Deprecated-1.2.13-py2.py3-none-any.whl (9.6 kB)\n",
            "Requirement already satisfied: xlrd in /usr/local/lib/python3.8/dist-packages (from pykrx) (1.2.0)\n",
            "Requirement already satisfied: pandas in /usr/local/lib/python3.8/dist-packages (from pykrx) (1.3.5)\n",
            "Requirement already satisfied: requests in /usr/local/lib/python3.8/dist-packages (from pykrx) (2.25.1)\n",
            "Collecting zope.interface\n",
            "  Downloading zope.interface-5.5.2-cp38-cp38-manylinux_2_5_x86_64.manylinux1_x86_64.manylinux_2_12_x86_64.manylinux2010_x86_64.whl (261 kB)\n",
            "\u001b[2K     \u001b[90m━━━━━━━━━━━━━━━━━━━━━━━━━━━━━━━━━━━━━━\u001b[0m \u001b[32m261.4/261.4 KB\u001b[0m \u001b[31m14.7 MB/s\u001b[0m eta \u001b[36m0:00:00\u001b[0m\n",
            "\u001b[?25hRequirement already satisfied: pytz in /usr/local/lib/python3.8/dist-packages (from datetime->pykrx) (2022.7)\n",
            "Requirement already satisfied: wrapt<2,>=1.10 in /usr/local/lib/python3.8/dist-packages (from deprecated->pykrx) (1.14.1)\n",
            "Requirement already satisfied: python-dateutil>=2.7.3 in /usr/local/lib/python3.8/dist-packages (from pandas->pykrx) (2.8.2)\n",
            "Requirement already satisfied: urllib3<1.27,>=1.21.1 in /usr/local/lib/python3.8/dist-packages (from requests->pykrx) (1.24.3)\n",
            "Requirement already satisfied: chardet<5,>=3.0.2 in /usr/local/lib/python3.8/dist-packages (from requests->pykrx) (4.0.0)\n",
            "Requirement already satisfied: idna<3,>=2.5 in /usr/local/lib/python3.8/dist-packages (from requests->pykrx) (2.10)\n",
            "Requirement already satisfied: certifi>=2017.4.17 in /usr/local/lib/python3.8/dist-packages (from requests->pykrx) (2022.12.7)\n",
            "Requirement already satisfied: six>=1.5 in /usr/local/lib/python3.8/dist-packages (from python-dateutil>=2.7.3->pandas->pykrx) (1.15.0)\n",
            "Requirement already satisfied: setuptools in /usr/local/lib/python3.8/dist-packages (from zope.interface->datetime->pykrx) (57.4.0)\n",
            "Installing collected packages: zope.interface, deprecated, datetime, pykrx\n",
            "Successfully installed datetime-4.9 deprecated-1.2.13 pykrx-1.0.39 zope.interface-5.5.2\n"
          ]
        }
      ]
    },
    {
      "cell_type": "code",
      "source": [
        "from pykrx import stock\n",
        "import pandas as pd\n",
        "import requests\n",
        "import time\n",
        "from datetime import datetime"
      ],
      "metadata": {
        "id": "F4ue870l3_2g"
      },
      "execution_count": 2,
      "outputs": []
    },
    {
      "cell_type": "code",
      "source": [
        "# EV/EBTIDA 가져오기\n",
        "# date='211230'\n",
        "# year='2021/12'\n",
        "def get_EVEBITDA(code, year):\n",
        "  # print (\"in get_EVEBITDA\")\n",
        "  url = 'https://comp.fnguide.com/SVO2/ASP/SVD_Invest.asp?pGB=1&gicode=A' + code + '&cID=&MenuYn=Y&ReportGB=&NewMenuID=105&stkGb=701'\n",
        "\n",
        "  fr_page = requests.get(url)\n",
        "  fr_tables = pd.read_html(fr_page.text)\n",
        "\n",
        "  temp_df = fr_tables[3]\n",
        "  temp_df = temp_df.set_index(temp_df.columns[0])\n",
        "  temp_df = temp_df.loc[['EV/EBITDA계산에 참여한 계정 펼치기']]\n",
        "  temp_df.index = ['EV/EBITDA']\n",
        "  temp_df = pd.DataFrame({code:temp_df[year]})\n",
        "  temp_df = temp_df.transpose()\n",
        "  # print (temp_df)\n",
        "  return temp_df\n",
        "\n",
        "# print (get_EVEBITDA('095570',year))"
      ],
      "metadata": {
        "id": "VYfOA3p55bks"
      },
      "execution_count": 14,
      "outputs": []
    },
    {
      "cell_type": "code",
      "source": [
        "# ROIC 가져오기\n",
        "# date='211230'\n",
        "# year='2021/12'\n",
        "def get_ROIC(code, year):\n",
        "  # print (\"in get_ROIC\")\n",
        "  url = 'https://comp.fnguide.com/SVO2/ASP/SVD_FinanceRatio.asp?pGB=1&gicode=A'+ code +'&cID=&MenuYn=Y&ReportGB=&NewMenuID=104&stkGb=701'\n",
        "\n",
        "  fr_page = requests.get(url)\n",
        "  fr_tables = pd.read_html(fr_page.text)\n",
        "\n",
        "  temp_df = fr_tables[0]\n",
        "  temp_df = temp_df.set_index(temp_df.columns[0])\n",
        "  temp_df = temp_df.loc[['ROIC계산에 참여한 계정 펼치기']]\n",
        "  temp_df.index = ['ROIC']\n",
        "  temp_df = pd.DataFrame({code:temp_df[year]})\n",
        "  temp_df = temp_df.transpose()\n",
        "  print (temp_df)\n",
        "  return temp_df\n",
        "\n",
        "# print (get_ROIC('095570',year))"
      ],
      "metadata": {
        "id": "pv3o5Ad90jmb"
      },
      "execution_count": 36,
      "outputs": []
    },
    {
      "cell_type": "code",
      "source": [
        "# 종목코드, 종목명 가져오기\n",
        "# 2022년 1년간의 종목 수익률을 파악해야 하므로 종목 추출 시점은 2021년 연말이 되어야 함\n",
        "# 따라서 종목, EV/EBTIDA, ROIC 모두 2021년 4분기 기준값으로 가져오기\n",
        "date='211230'\n",
        "year='2021/12'\n",
        "codes = stock.get_market_ticker_list(date, market='ALL')\n",
        "corp = []\n",
        "\n",
        "for code in codes:\n",
        "  name = stock.get_market_ticker_name(code)\n",
        "  corp.append([code, name])\n",
        "\n",
        "df = pd.DataFrame(data=corp, columns=['종목코드', '종목명'])\n",
        "df_code = df['종목코드']\n",
        "\n",
        "# EV/EBITDA dataframe 생성 및 적재\n",
        "# 첫번재 종목이 3월 결산 종목이라 2021년 12월 데이터 값이 홈페이지에 나와있지 않음 -> 삼성전자를 임의로 첫번째 값으로 입력\n",
        "evebitda_df=get_EVEBITDA('005930',year)\n",
        "\n",
        "for num, code in enumerate(df_code):  \n",
        "  if num==5:\n",
        "      break\n",
        "  try:\n",
        "      if num==1:\n",
        "        return_df=get_EVEBITDA(code,year)\n",
        "        evebitda_df=pd.concat([evebitda_df, return_df])\n",
        "        print (evebitda_df)\n",
        "        evebitda_df=evebitda_df.drop(index='005930')  \n",
        "      else:\n",
        "        return_df=get_EVEBITDA(code,year)\n",
        "        evebitda_df=pd.concat([evebitda_df, return_df])\n",
        "  except:\n",
        "      pass\n",
        "print (evebitda_df)\n",
        "\n",
        "# ROIC dataframe 생성 및 적재\n",
        "roic_df=get_ROIC('005930',year)\n",
        "\n",
        "for num, code in enumerate(df_code):  \n",
        "  if num==5:\n",
        "      break\n",
        "  try:\n",
        "      if num==1:\n",
        "        return_df=get_ROIC(code,year)\n",
        "        roic_df=pd.concat([roic_df, return_df])\n",
        "        print (roic_df)\n",
        "        roic_df=roic_df.drop(index='005930')  \n",
        "      else:\n",
        "        return_df=get_ROIC(code,year)\n",
        "        roic_df=pd.concat([roic_df, return_df])\n",
        "  except:\n",
        "      pass\n",
        "print (roic_df)\n"
      ],
      "metadata": {
        "id": "XCE7MhkQ96Cz",
        "colab": {
          "base_uri": "https://localhost:8080/"
        },
        "outputId": "94b31e75-2d41-4c82-ff19-ba3b74ec2e27"
      },
      "execution_count": 39,
      "outputs": [
        {
          "output_type": "stream",
          "name": "stdout",
          "text": [
            "       EV/EBITDA\n",
            "005930      6.23\n",
            "       EV/EBITDA\n",
            "095570      4.85\n",
            "       EV/EBITDA\n",
            "005930      6.23\n",
            "095570      4.85\n",
            "       EV/EBITDA\n",
            "006840     34.61\n",
            "       EV/EBITDA\n",
            "054620    274.52\n",
            "       EV/EBITDA\n",
            "265520      5.27\n",
            "       EV/EBITDA\n",
            "095570      4.85\n",
            "006840     34.61\n",
            "054620    274.52\n",
            "265520      5.27\n",
            "        ROIC\n",
            "005930  23.9\n",
            "       ROIC\n",
            "095570  2.0\n",
            "        ROIC\n",
            "005930  23.9\n",
            "095570   2.0\n",
            "        ROIC\n",
            "006840  -5.2\n",
            "        ROIC\n",
            "054620  -8.1\n",
            "        ROIC\n",
            "265520  37.9\n",
            "        ROIC\n",
            "095570   2.0\n",
            "006840  -5.2\n",
            "054620  -8.1\n",
            "265520  37.9\n"
          ]
        }
      ]
    },
    {
      "cell_type": "code",
      "source": [],
      "metadata": {
        "id": "8HVvzREBrJAp"
      },
      "execution_count": null,
      "outputs": []
    }
  ]
}